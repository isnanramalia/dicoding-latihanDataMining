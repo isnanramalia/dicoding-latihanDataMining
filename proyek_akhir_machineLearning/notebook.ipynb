{
 "cells": [
  {
   "cell_type": "markdown",
   "metadata": {},
   "source": [
    "# Proyek Akhir : Klasifikasi Gambar\n",
    "- Nama: Isna Nur Amalia\n",
    "- Email: isnanuramalia13@gmail.com\n",
    "- Id Dicoding:\n",
    "- GitHub: https://github.com/isnanramalia/dicoding-latihanDataMining/tree/main/proyek_akhir_machineLearning"
   ]
  },
  {
   "cell_type": "markdown",
   "metadata": {},
   "source": []
  }
 ],
 "metadata": {
  "language_info": {
   "name": "python"
  }
 },
 "nbformat": 4,
 "nbformat_minor": 2
}
