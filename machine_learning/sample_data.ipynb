{
  "nbformat": 4,
  "nbformat_minor": 0,
  "metadata": {
    "colab": {
      "provenance": [],
      "authorship_tag": "ABX9TyMGsjrrAvuVSx/sgNbpXhZQ",
      "include_colab_link": true
    },
    "kernelspec": {
      "name": "python3",
      "display_name": "Python 3"
    },
    "language_info": {
      "name": "python"
    }
  },
  "cells": [
    {
      "cell_type": "markdown",
      "metadata": {
        "id": "view-in-github",
        "colab_type": "text"
      },
      "source": [
        "<a href=\"https://colab.research.google.com/github/isnanramalia/dicoding-latihanDataMining/blob/main/machine_learning/sample_data.ipynb\" target=\"_parent\"><img src=\"https://colab.research.google.com/assets/colab-badge.svg\" alt=\"Open In Colab\"/></a>"
      ]
    },
    {
      "cell_type": "markdown",
      "source": [
        "Latihan Kelas Dicoding: Machine Learning Pemula"
      ],
      "metadata": {
        "id": "78okHmUekyfO"
      }
    },
    {
      "cell_type": "markdown",
      "source": [
        "# Preprocessing"
      ],
      "metadata": {
        "id": "DlNW33eSfl88"
      }
    },
    {
      "cell_type": "markdown",
      "source": [
        "## Latihan"
      ],
      "metadata": {
        "id": "kC2RZL6ijmv-"
      }
    },
    {
      "cell_type": "code",
      "execution_count": null,
      "metadata": {
        "colab": {
          "base_uri": "https://localhost:8080/"
        },
        "id": "hITH1QUrfRnm",
        "outputId": "0e89f854-a235-47a1-9c29-df115ebcfa25"
      },
      "outputs": [
        {
          "output_type": "execute_result",
          "data": {
            "text/plain": [
              "['anscombe.json',\n",
              " 'README.md',\n",
              " 'california_housing_train.csv',\n",
              " 'california_housing_test.csv',\n",
              " 'mnist_test.csv',\n",
              " 'mnist_train_small.csv']"
            ]
          },
          "metadata": {},
          "execution_count": 3
        }
      ],
      "source": [
        "import os\n",
        "os.listdir('sample_data')"
      ]
    },
    {
      "cell_type": "code",
      "source": [
        "import pandas as pd"
      ],
      "metadata": {
        "id": "FCpKH8hYgHdg"
      },
      "execution_count": null,
      "outputs": []
    },
    {
      "cell_type": "code",
      "source": [
        "df = pd.read_csv('sample_data/california_housing_train.csv')\n",
        "df.head()"
      ],
      "metadata": {
        "colab": {
          "base_uri": "https://localhost:8080/",
          "height": 226
        },
        "id": "utB97HpCgKZP",
        "outputId": "a87e8f39-6bf8-4ca6-e114-c57f8317c973"
      },
      "execution_count": null,
      "outputs": [
        {
          "output_type": "execute_result",
          "data": {
            "text/plain": [
              "   longitude  latitude  housing_median_age  total_rooms  total_bedrooms  \\\n",
              "0    -114.31     34.19                15.0       5612.0          1283.0   \n",
              "1    -114.47     34.40                19.0       7650.0          1901.0   \n",
              "2    -114.56     33.69                17.0        720.0           174.0   \n",
              "3    -114.57     33.64                14.0       1501.0           337.0   \n",
              "4    -114.57     33.57                20.0       1454.0           326.0   \n",
              "\n",
              "   population  households  median_income  median_house_value  \n",
              "0      1015.0       472.0         1.4936             66900.0  \n",
              "1      1129.0       463.0         1.8200             80100.0  \n",
              "2       333.0       117.0         1.6509             85700.0  \n",
              "3       515.0       226.0         3.1917             73400.0  \n",
              "4       624.0       262.0         1.9250             65500.0  "
            ],
            "text/html": [
              "\n",
              "  <div id=\"df-2fb9ff41-0511-43ee-a7b7-d72b69add669\" class=\"colab-df-container\">\n",
              "    <div>\n",
              "<style scoped>\n",
              "    .dataframe tbody tr th:only-of-type {\n",
              "        vertical-align: middle;\n",
              "    }\n",
              "\n",
              "    .dataframe tbody tr th {\n",
              "        vertical-align: top;\n",
              "    }\n",
              "\n",
              "    .dataframe thead th {\n",
              "        text-align: right;\n",
              "    }\n",
              "</style>\n",
              "<table border=\"1\" class=\"dataframe\">\n",
              "  <thead>\n",
              "    <tr style=\"text-align: right;\">\n",
              "      <th></th>\n",
              "      <th>longitude</th>\n",
              "      <th>latitude</th>\n",
              "      <th>housing_median_age</th>\n",
              "      <th>total_rooms</th>\n",
              "      <th>total_bedrooms</th>\n",
              "      <th>population</th>\n",
              "      <th>households</th>\n",
              "      <th>median_income</th>\n",
              "      <th>median_house_value</th>\n",
              "    </tr>\n",
              "  </thead>\n",
              "  <tbody>\n",
              "    <tr>\n",
              "      <th>0</th>\n",
              "      <td>-114.31</td>\n",
              "      <td>34.19</td>\n",
              "      <td>15.0</td>\n",
              "      <td>5612.0</td>\n",
              "      <td>1283.0</td>\n",
              "      <td>1015.0</td>\n",
              "      <td>472.0</td>\n",
              "      <td>1.4936</td>\n",
              "      <td>66900.0</td>\n",
              "    </tr>\n",
              "    <tr>\n",
              "      <th>1</th>\n",
              "      <td>-114.47</td>\n",
              "      <td>34.40</td>\n",
              "      <td>19.0</td>\n",
              "      <td>7650.0</td>\n",
              "      <td>1901.0</td>\n",
              "      <td>1129.0</td>\n",
              "      <td>463.0</td>\n",
              "      <td>1.8200</td>\n",
              "      <td>80100.0</td>\n",
              "    </tr>\n",
              "    <tr>\n",
              "      <th>2</th>\n",
              "      <td>-114.56</td>\n",
              "      <td>33.69</td>\n",
              "      <td>17.0</td>\n",
              "      <td>720.0</td>\n",
              "      <td>174.0</td>\n",
              "      <td>333.0</td>\n",
              "      <td>117.0</td>\n",
              "      <td>1.6509</td>\n",
              "      <td>85700.0</td>\n",
              "    </tr>\n",
              "    <tr>\n",
              "      <th>3</th>\n",
              "      <td>-114.57</td>\n",
              "      <td>33.64</td>\n",
              "      <td>14.0</td>\n",
              "      <td>1501.0</td>\n",
              "      <td>337.0</td>\n",
              "      <td>515.0</td>\n",
              "      <td>226.0</td>\n",
              "      <td>3.1917</td>\n",
              "      <td>73400.0</td>\n",
              "    </tr>\n",
              "    <tr>\n",
              "      <th>4</th>\n",
              "      <td>-114.57</td>\n",
              "      <td>33.57</td>\n",
              "      <td>20.0</td>\n",
              "      <td>1454.0</td>\n",
              "      <td>326.0</td>\n",
              "      <td>624.0</td>\n",
              "      <td>262.0</td>\n",
              "      <td>1.9250</td>\n",
              "      <td>65500.0</td>\n",
              "    </tr>\n",
              "  </tbody>\n",
              "</table>\n",
              "</div>\n",
              "    <div class=\"colab-df-buttons\">\n",
              "\n",
              "  <div class=\"colab-df-container\">\n",
              "    <button class=\"colab-df-convert\" onclick=\"convertToInteractive('df-2fb9ff41-0511-43ee-a7b7-d72b69add669')\"\n",
              "            title=\"Convert this dataframe to an interactive table.\"\n",
              "            style=\"display:none;\">\n",
              "\n",
              "  <svg xmlns=\"http://www.w3.org/2000/svg\" height=\"24px\" viewBox=\"0 -960 960 960\">\n",
              "    <path d=\"M120-120v-720h720v720H120Zm60-500h600v-160H180v160Zm220 220h160v-160H400v160Zm0 220h160v-160H400v160ZM180-400h160v-160H180v160Zm440 0h160v-160H620v160ZM180-180h160v-160H180v160Zm440 0h160v-160H620v160Z\"/>\n",
              "  </svg>\n",
              "    </button>\n",
              "\n",
              "  <style>\n",
              "    .colab-df-container {\n",
              "      display:flex;\n",
              "      gap: 12px;\n",
              "    }\n",
              "\n",
              "    .colab-df-convert {\n",
              "      background-color: #E8F0FE;\n",
              "      border: none;\n",
              "      border-radius: 50%;\n",
              "      cursor: pointer;\n",
              "      display: none;\n",
              "      fill: #1967D2;\n",
              "      height: 32px;\n",
              "      padding: 0 0 0 0;\n",
              "      width: 32px;\n",
              "    }\n",
              "\n",
              "    .colab-df-convert:hover {\n",
              "      background-color: #E2EBFA;\n",
              "      box-shadow: 0px 1px 2px rgba(60, 64, 67, 0.3), 0px 1px 3px 1px rgba(60, 64, 67, 0.15);\n",
              "      fill: #174EA6;\n",
              "    }\n",
              "\n",
              "    .colab-df-buttons div {\n",
              "      margin-bottom: 4px;\n",
              "    }\n",
              "\n",
              "    [theme=dark] .colab-df-convert {\n",
              "      background-color: #3B4455;\n",
              "      fill: #D2E3FC;\n",
              "    }\n",
              "\n",
              "    [theme=dark] .colab-df-convert:hover {\n",
              "      background-color: #434B5C;\n",
              "      box-shadow: 0px 1px 3px 1px rgba(0, 0, 0, 0.15);\n",
              "      filter: drop-shadow(0px 1px 2px rgba(0, 0, 0, 0.3));\n",
              "      fill: #FFFFFF;\n",
              "    }\n",
              "  </style>\n",
              "\n",
              "    <script>\n",
              "      const buttonEl =\n",
              "        document.querySelector('#df-2fb9ff41-0511-43ee-a7b7-d72b69add669 button.colab-df-convert');\n",
              "      buttonEl.style.display =\n",
              "        google.colab.kernel.accessAllowed ? 'block' : 'none';\n",
              "\n",
              "      async function convertToInteractive(key) {\n",
              "        const element = document.querySelector('#df-2fb9ff41-0511-43ee-a7b7-d72b69add669');\n",
              "        const dataTable =\n",
              "          await google.colab.kernel.invokeFunction('convertToInteractive',\n",
              "                                                    [key], {});\n",
              "        if (!dataTable) return;\n",
              "\n",
              "        const docLinkHtml = 'Like what you see? Visit the ' +\n",
              "          '<a target=\"_blank\" href=https://colab.research.google.com/notebooks/data_table.ipynb>data table notebook</a>'\n",
              "          + ' to learn more about interactive tables.';\n",
              "        element.innerHTML = '';\n",
              "        dataTable['output_type'] = 'display_data';\n",
              "        await google.colab.output.renderOutput(dataTable, element);\n",
              "        const docLink = document.createElement('div');\n",
              "        docLink.innerHTML = docLinkHtml;\n",
              "        element.appendChild(docLink);\n",
              "      }\n",
              "    </script>\n",
              "  </div>\n",
              "\n",
              "\n",
              "<div id=\"df-78870ec7-91f4-4924-8d6c-16fb5a07ce31\">\n",
              "  <button class=\"colab-df-quickchart\" onclick=\"quickchart('df-78870ec7-91f4-4924-8d6c-16fb5a07ce31')\"\n",
              "            title=\"Suggest charts\"\n",
              "            style=\"display:none;\">\n",
              "\n",
              "<svg xmlns=\"http://www.w3.org/2000/svg\" height=\"24px\"viewBox=\"0 0 24 24\"\n",
              "     width=\"24px\">\n",
              "    <g>\n",
              "        <path d=\"M19 3H5c-1.1 0-2 .9-2 2v14c0 1.1.9 2 2 2h14c1.1 0 2-.9 2-2V5c0-1.1-.9-2-2-2zM9 17H7v-7h2v7zm4 0h-2V7h2v10zm4 0h-2v-4h2v4z\"/>\n",
              "    </g>\n",
              "</svg>\n",
              "  </button>\n",
              "\n",
              "<style>\n",
              "  .colab-df-quickchart {\n",
              "      --bg-color: #E8F0FE;\n",
              "      --fill-color: #1967D2;\n",
              "      --hover-bg-color: #E2EBFA;\n",
              "      --hover-fill-color: #174EA6;\n",
              "      --disabled-fill-color: #AAA;\n",
              "      --disabled-bg-color: #DDD;\n",
              "  }\n",
              "\n",
              "  [theme=dark] .colab-df-quickchart {\n",
              "      --bg-color: #3B4455;\n",
              "      --fill-color: #D2E3FC;\n",
              "      --hover-bg-color: #434B5C;\n",
              "      --hover-fill-color: #FFFFFF;\n",
              "      --disabled-bg-color: #3B4455;\n",
              "      --disabled-fill-color: #666;\n",
              "  }\n",
              "\n",
              "  .colab-df-quickchart {\n",
              "    background-color: var(--bg-color);\n",
              "    border: none;\n",
              "    border-radius: 50%;\n",
              "    cursor: pointer;\n",
              "    display: none;\n",
              "    fill: var(--fill-color);\n",
              "    height: 32px;\n",
              "    padding: 0;\n",
              "    width: 32px;\n",
              "  }\n",
              "\n",
              "  .colab-df-quickchart:hover {\n",
              "    background-color: var(--hover-bg-color);\n",
              "    box-shadow: 0 1px 2px rgba(60, 64, 67, 0.3), 0 1px 3px 1px rgba(60, 64, 67, 0.15);\n",
              "    fill: var(--button-hover-fill-color);\n",
              "  }\n",
              "\n",
              "  .colab-df-quickchart-complete:disabled,\n",
              "  .colab-df-quickchart-complete:disabled:hover {\n",
              "    background-color: var(--disabled-bg-color);\n",
              "    fill: var(--disabled-fill-color);\n",
              "    box-shadow: none;\n",
              "  }\n",
              "\n",
              "  .colab-df-spinner {\n",
              "    border: 2px solid var(--fill-color);\n",
              "    border-color: transparent;\n",
              "    border-bottom-color: var(--fill-color);\n",
              "    animation:\n",
              "      spin 1s steps(1) infinite;\n",
              "  }\n",
              "\n",
              "  @keyframes spin {\n",
              "    0% {\n",
              "      border-color: transparent;\n",
              "      border-bottom-color: var(--fill-color);\n",
              "      border-left-color: var(--fill-color);\n",
              "    }\n",
              "    20% {\n",
              "      border-color: transparent;\n",
              "      border-left-color: var(--fill-color);\n",
              "      border-top-color: var(--fill-color);\n",
              "    }\n",
              "    30% {\n",
              "      border-color: transparent;\n",
              "      border-left-color: var(--fill-color);\n",
              "      border-top-color: var(--fill-color);\n",
              "      border-right-color: var(--fill-color);\n",
              "    }\n",
              "    40% {\n",
              "      border-color: transparent;\n",
              "      border-right-color: var(--fill-color);\n",
              "      border-top-color: var(--fill-color);\n",
              "    }\n",
              "    60% {\n",
              "      border-color: transparent;\n",
              "      border-right-color: var(--fill-color);\n",
              "    }\n",
              "    80% {\n",
              "      border-color: transparent;\n",
              "      border-right-color: var(--fill-color);\n",
              "      border-bottom-color: var(--fill-color);\n",
              "    }\n",
              "    90% {\n",
              "      border-color: transparent;\n",
              "      border-bottom-color: var(--fill-color);\n",
              "    }\n",
              "  }\n",
              "</style>\n",
              "\n",
              "  <script>\n",
              "    async function quickchart(key) {\n",
              "      const quickchartButtonEl =\n",
              "        document.querySelector('#' + key + ' button');\n",
              "      quickchartButtonEl.disabled = true;  // To prevent multiple clicks.\n",
              "      quickchartButtonEl.classList.add('colab-df-spinner');\n",
              "      try {\n",
              "        const charts = await google.colab.kernel.invokeFunction(\n",
              "            'suggestCharts', [key], {});\n",
              "      } catch (error) {\n",
              "        console.error('Error during call to suggestCharts:', error);\n",
              "      }\n",
              "      quickchartButtonEl.classList.remove('colab-df-spinner');\n",
              "      quickchartButtonEl.classList.add('colab-df-quickchart-complete');\n",
              "    }\n",
              "    (() => {\n",
              "      let quickchartButtonEl =\n",
              "        document.querySelector('#df-78870ec7-91f4-4924-8d6c-16fb5a07ce31 button');\n",
              "      quickchartButtonEl.style.display =\n",
              "        google.colab.kernel.accessAllowed ? 'block' : 'none';\n",
              "    })();\n",
              "  </script>\n",
              "</div>\n",
              "    </div>\n",
              "  </div>\n"
            ]
          },
          "metadata": {},
          "execution_count": 7
        }
      ]
    },
    {
      "cell_type": "markdown",
      "source": [
        "## Preprocessing Data: Normalization"
      ],
      "metadata": {
        "id": "rasyzB5ZiCox"
      }
    },
    {
      "cell_type": "code",
      "source": [
        "from sklearn.preprocessing import MinMaxScaler\n",
        "data = [[12000000, 33], [35000000, 45], [4000000, 23], [6500000, 26], [9000000, 29]]"
      ],
      "metadata": {
        "id": "LksUnMnWiL9B"
      },
      "execution_count": null,
      "outputs": []
    },
    {
      "cell_type": "markdown",
      "source": [
        "Contoh dari normalization adalah ketika kita memiliki dataset seperti di atas yang memiliki fitur umur dengan skala 23 sampai 45 tahun dan fitur penghasilan dengan skala 4.000.000 sampai 35.000.000. Di sini kita melihat bahwa fitur penghasilan sekitar satu juta kali lebih besar dari fitur umur dan menunjukkan kedua fitur ini berada pada skala yang sangat jauh berbeda.\n",
        "\n",
        "Ketika membangun model seperti regresi linear, fitur penghasilan akan sangat mempengaruhi prediksi dari model karena nilainya yang jauh lebih besar daripada umur, walaupun tidak berarti fitur tersebut jauh lebih penting dari fitur umur.\n",
        "\n",
        "Salah satu contoh dari normalization adalah min-max scaling di mana nilai-nilai dipetakan ke dalam skala 0 sampai 1. SKLearn menyediakan library untuk normalization\n",
        "\n",
        "Pada Colab kita Import library MinMaxScaler dan masukkan data dari tabel sebelumnya."
      ],
      "metadata": {
        "id": "exzaFADTijSp"
      }
    },
    {
      "cell_type": "code",
      "source": [
        "scaler = MinMaxScaler()\n",
        "scaler.fit(data)"
      ],
      "metadata": {
        "colab": {
          "base_uri": "https://localhost:8080/",
          "height": 75
        },
        "id": "U_Za1nAdiaoq",
        "outputId": "42801b36-367a-4c68-881e-0bc90808325b"
      },
      "execution_count": null,
      "outputs": [
        {
          "output_type": "execute_result",
          "data": {
            "text/plain": [
              "MinMaxScaler()"
            ],
            "text/html": [
              "<style>#sk-container-id-1 {color: black;background-color: white;}#sk-container-id-1 pre{padding: 0;}#sk-container-id-1 div.sk-toggleable {background-color: white;}#sk-container-id-1 label.sk-toggleable__label {cursor: pointer;display: block;width: 100%;margin-bottom: 0;padding: 0.3em;box-sizing: border-box;text-align: center;}#sk-container-id-1 label.sk-toggleable__label-arrow:before {content: \"▸\";float: left;margin-right: 0.25em;color: #696969;}#sk-container-id-1 label.sk-toggleable__label-arrow:hover:before {color: black;}#sk-container-id-1 div.sk-estimator:hover label.sk-toggleable__label-arrow:before {color: black;}#sk-container-id-1 div.sk-toggleable__content {max-height: 0;max-width: 0;overflow: hidden;text-align: left;background-color: #f0f8ff;}#sk-container-id-1 div.sk-toggleable__content pre {margin: 0.2em;color: black;border-radius: 0.25em;background-color: #f0f8ff;}#sk-container-id-1 input.sk-toggleable__control:checked~div.sk-toggleable__content {max-height: 200px;max-width: 100%;overflow: auto;}#sk-container-id-1 input.sk-toggleable__control:checked~label.sk-toggleable__label-arrow:before {content: \"▾\";}#sk-container-id-1 div.sk-estimator input.sk-toggleable__control:checked~label.sk-toggleable__label {background-color: #d4ebff;}#sk-container-id-1 div.sk-label input.sk-toggleable__control:checked~label.sk-toggleable__label {background-color: #d4ebff;}#sk-container-id-1 input.sk-hidden--visually {border: 0;clip: rect(1px 1px 1px 1px);clip: rect(1px, 1px, 1px, 1px);height: 1px;margin: -1px;overflow: hidden;padding: 0;position: absolute;width: 1px;}#sk-container-id-1 div.sk-estimator {font-family: monospace;background-color: #f0f8ff;border: 1px dotted black;border-radius: 0.25em;box-sizing: border-box;margin-bottom: 0.5em;}#sk-container-id-1 div.sk-estimator:hover {background-color: #d4ebff;}#sk-container-id-1 div.sk-parallel-item::after {content: \"\";width: 100%;border-bottom: 1px solid gray;flex-grow: 1;}#sk-container-id-1 div.sk-label:hover label.sk-toggleable__label {background-color: #d4ebff;}#sk-container-id-1 div.sk-serial::before {content: \"\";position: absolute;border-left: 1px solid gray;box-sizing: border-box;top: 0;bottom: 0;left: 50%;z-index: 0;}#sk-container-id-1 div.sk-serial {display: flex;flex-direction: column;align-items: center;background-color: white;padding-right: 0.2em;padding-left: 0.2em;position: relative;}#sk-container-id-1 div.sk-item {position: relative;z-index: 1;}#sk-container-id-1 div.sk-parallel {display: flex;align-items: stretch;justify-content: center;background-color: white;position: relative;}#sk-container-id-1 div.sk-item::before, #sk-container-id-1 div.sk-parallel-item::before {content: \"\";position: absolute;border-left: 1px solid gray;box-sizing: border-box;top: 0;bottom: 0;left: 50%;z-index: -1;}#sk-container-id-1 div.sk-parallel-item {display: flex;flex-direction: column;z-index: 1;position: relative;background-color: white;}#sk-container-id-1 div.sk-parallel-item:first-child::after {align-self: flex-end;width: 50%;}#sk-container-id-1 div.sk-parallel-item:last-child::after {align-self: flex-start;width: 50%;}#sk-container-id-1 div.sk-parallel-item:only-child::after {width: 0;}#sk-container-id-1 div.sk-dashed-wrapped {border: 1px dashed gray;margin: 0 0.4em 0.5em 0.4em;box-sizing: border-box;padding-bottom: 0.4em;background-color: white;}#sk-container-id-1 div.sk-label label {font-family: monospace;font-weight: bold;display: inline-block;line-height: 1.2em;}#sk-container-id-1 div.sk-label-container {text-align: center;}#sk-container-id-1 div.sk-container {/* jupyter's `normalize.less` sets `[hidden] { display: none; }` but bootstrap.min.css set `[hidden] { display: none !important; }` so we also need the `!important` here to be able to override the default hidden behavior on the sphinx rendered scikit-learn.org. See: https://github.com/scikit-learn/scikit-learn/issues/21755 */display: inline-block !important;position: relative;}#sk-container-id-1 div.sk-text-repr-fallback {display: none;}</style><div id=\"sk-container-id-1\" class=\"sk-top-container\"><div class=\"sk-text-repr-fallback\"><pre>MinMaxScaler()</pre><b>In a Jupyter environment, please rerun this cell to show the HTML representation or trust the notebook. <br />On GitHub, the HTML representation is unable to render, please try loading this page with nbviewer.org.</b></div><div class=\"sk-container\" hidden><div class=\"sk-item\"><div class=\"sk-estimator sk-toggleable\"><input class=\"sk-toggleable__control sk-hidden--visually\" id=\"sk-estimator-id-1\" type=\"checkbox\" checked><label for=\"sk-estimator-id-1\" class=\"sk-toggleable__label sk-toggleable__label-arrow\">MinMaxScaler</label><div class=\"sk-toggleable__content\"><pre>MinMaxScaler()</pre></div></div></div></div></div>"
            ]
          },
          "metadata": {},
          "execution_count": 9
        }
      ]
    },
    {
      "cell_type": "code",
      "source": [
        "print(scaler.transform(data))"
      ],
      "metadata": {
        "colab": {
          "base_uri": "https://localhost:8080/"
        },
        "id": "3GWrSIcmiqTY",
        "outputId": "9f971f67-5b79-4d8e-e2a4-7a72a9d7980d"
      },
      "execution_count": null,
      "outputs": [
        {
          "output_type": "stream",
          "name": "stdout",
          "text": [
            "[[0.25806452 0.45454545]\n",
            " [1.         1.        ]\n",
            " [0.         0.        ]\n",
            " [0.08064516 0.13636364]\n",
            " [0.16129032 0.27272727]]\n"
          ]
        }
      ]
    },
    {
      "cell_type": "markdown",
      "source": [
        "## Preprocessing Data: Standardization"
      ],
      "metadata": {
        "id": "5_JOk3xoisYk"
      }
    },
    {
      "cell_type": "markdown",
      "source": [
        "Standardization adalah proses konversi nilai-nilai dari suatu fitur sehingga nilai-nilai tersebut memiliki skala yang sama. Z score adalah metode paling populer untuk standardisasi di mana setiap nilai pada sebuah atribut numerik akan dikurangi dengan rata-rata dan dibagi dengan standar deviasi dari seluruh nilai pada sebuah kolom atribut.\n",
        "\n",
        "![image.png](data:image/png;base64,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)\n",
        "\n",
        "Fungsi standardisasi itu serupa dengan normalization. Keduanya berfungsi menyamakan skala nilai dari tiap atribut pada data. SKLearn menyediakan library untuk mengaplikasikan standard scaler pada data."
      ],
      "metadata": {
        "id": "XGf9GZ5-jEI4"
      }
    },
    {
      "cell_type": "code",
      "source": [
        "from sklearn import preprocessing\n",
        "data = [[12000000, 33], [35000000, 45], [4000000, 23], [6500000, 26], [9000000, 29]]"
      ],
      "metadata": {
        "id": "CJhVeOnNi1tM"
      },
      "execution_count": null,
      "outputs": []
    },
    {
      "cell_type": "code",
      "source": [
        "scaler = preprocessing.StandardScaler().fit(data)\n",
        "# utk menghitung rata2 deviasi standar dr setiap kolom atribut utk kemudian diapakai pada fungsi transform"
      ],
      "metadata": {
        "id": "3Ivd6ZImjSb9"
      },
      "execution_count": null,
      "outputs": []
    },
    {
      "cell_type": "code",
      "source": [
        "data = scaler.transform(data)\n",
        "data"
      ],
      "metadata": {
        "colab": {
          "base_uri": "https://localhost:8080/"
        },
        "id": "n4FCe8cGjfk0",
        "outputId": "6180c6ec-b885-4dd0-e318-85a624f3d768"
      },
      "execution_count": null,
      "outputs": [
        {
          "output_type": "execute_result",
          "data": {
            "text/plain": [
              "array([[-0.11638732,  0.23521877],\n",
              "       [ 1.94277296,  1.80334389],\n",
              "       [-0.83261698, -1.07155217],\n",
              "       [-0.60879521, -0.67952089],\n",
              "       [-0.38497344, -0.28748961]])"
            ]
          },
          "metadata": {},
          "execution_count": 14
        }
      ]
    },
    {
      "cell_type": "markdown",
      "source": [
        "# Split Data"
      ],
      "metadata": {
        "id": "0QyVzzuZk0yi"
      }
    },
    {
      "cell_type": "markdown",
      "source": [
        "## latihan 1"
      ],
      "metadata": {
        "id": "n8MJO5NLlpOm"
      }
    },
    {
      "cell_type": "code",
      "source": [
        "from sklearn.model_selection import train_test_split\n",
        "\n",
        "X_data = range(10)\n",
        "y_data = range(10)\n",
        "\n",
        "print(\"random_state ditentukan\")\n",
        "for i in range(3):\n",
        "    X_train, X_test, y_train, y_test = train_test_split(X_data, y_data, test_size = 0.3, random_state = 42)\n",
        "    print(y_test)\n",
        "\n",
        "\n",
        "print(\"random_state tidak ditentukan\")\n",
        "for i in range(3):\n",
        "    X_train, X_test, y_train, y_test = train_test_split(X_data, y_data, test_size = 0.3, random_state = None)\n",
        "    print(y_test)"
      ],
      "metadata": {
        "colab": {
          "base_uri": "https://localhost:8080/"
        },
        "id": "GqF6hlfRk5xE",
        "outputId": "eb3fe7cb-0af5-4b92-fd87-b98548de0282"
      },
      "execution_count": null,
      "outputs": [
        {
          "output_type": "stream",
          "name": "stdout",
          "text": [
            "random_state ditentukan\n",
            "[8, 1, 5]\n",
            "[8, 1, 5]\n",
            "[8, 1, 5]\n",
            "random_state tidak ditentukan\n",
            "[6, 4, 0]\n",
            "[6, 0, 4]\n",
            "[2, 1, 7]\n"
          ]
        }
      ]
    },
    {
      "cell_type": "markdown",
      "source": [
        "## latihan 2"
      ],
      "metadata": {
        "id": "0MdAZlBVlqqG"
      }
    },
    {
      "cell_type": "code",
      "source": [
        "import sklearn\n",
        "from sklearn import datasets"
      ],
      "metadata": {
        "id": "T1eTeA0flu8S"
      },
      "execution_count": null,
      "outputs": []
    },
    {
      "cell_type": "code",
      "source": [
        "# load iris dataset\n",
        "iris = datasets.load_iris()"
      ],
      "metadata": {
        "id": "zLFDXsUllzc4"
      },
      "execution_count": null,
      "outputs": []
    },
    {
      "cell_type": "code",
      "source": [
        "# pisahkan atribut dan label pd iris dataset\n",
        "x = iris.data\n",
        "y = iris.target"
      ],
      "metadata": {
        "id": "9KhZFDHJl5pc"
      },
      "execution_count": null,
      "outputs": []
    },
    {
      "cell_type": "code",
      "source": [
        "from sklearn.model_selection import train_test_split\n",
        "\n",
        "# membagi dataset menjadi training dan testing\n",
        "x_train, x_test, y_train, y_test = train_test_split(x, y, test_size=0.2, random_state=1)"
      ],
      "metadata": {
        "id": "YabPUMrymDQD"
      },
      "execution_count": null,
      "outputs": []
    },
    {
      "cell_type": "code",
      "source": [
        "# menghitung panjang/jumlah data pada x_test\n",
        "len(x_test)"
      ],
      "metadata": {
        "colab": {
          "base_uri": "https://localhost:8080/"
        },
        "id": "KsKQQ9ZemRnf",
        "outputId": "63fdb40a-f9df-4a38-98bd-8c09ad729346"
      },
      "execution_count": null,
      "outputs": [
        {
          "output_type": "execute_result",
          "data": {
            "text/plain": [
              "30"
            ]
          },
          "metadata": {},
          "execution_count": 26
        }
      ]
    },
    {
      "cell_type": "markdown",
      "source": [
        "# Cross Validation Split"
      ],
      "metadata": {
        "id": "kh6q7ziZnOos"
      }
    },
    {
      "cell_type": "markdown",
      "source": [
        "## ![image.png](data:image/png;base64,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)"
      ],
      "metadata": {
        "id": "4OnZBMOGn9jv"
      }
    },
    {
      "cell_type": "code",
      "source": [
        "import sklearn\n",
        "from sklearn import datasets\n",
        "\n",
        "# Load iris dataset\n",
        "iris = datasets.load_iris()"
      ],
      "metadata": {
        "id": "kaz4uizvnVlB"
      },
      "execution_count": null,
      "outputs": []
    },
    {
      "cell_type": "code",
      "source": [
        "# mendefinisikan atribut dan label pada dataset\n",
        "x=iris.data\n",
        "y=iris.target"
      ],
      "metadata": {
        "id": "avaLcgd_nYQ6"
      },
      "execution_count": null,
      "outputs": []
    },
    {
      "cell_type": "code",
      "source": [
        "from sklearn import tree\n",
        "\n",
        "# membuat model dengan decision tree classifier\n",
        "clf = tree.DecisionTreeClassifier()"
      ],
      "metadata": {
        "id": "7bO7m-lVna8t"
      },
      "execution_count": null,
      "outputs": []
    },
    {
      "cell_type": "markdown",
      "source": [
        "Setelah dataset dan model siap, kita bisa menggunakan cross validation untuk mengevaluasi performa dari model machine learning. Fungsi cross_val_score() seperti di bawah menerima 4 parameter yaitu, ‘clf’ yang merupakan model machine learning, ‘X’ yang merupakan atribut dari dataset, ‘y’ yang merupakan label dari dataset, dan ‘cv’ yang merupakan jumlah fold yang akan dipakai pada cross validation."
      ],
      "metadata": {
        "id": "pH1t3cZjngdH"
      }
    },
    {
      "cell_type": "code",
      "source": [
        "from sklearn.model_selection import cross_val_score\n",
        "\n",
        "# mengevaluasi performa model dengan cross_val_score\n",
        "scores = cross_val_score(clf, x, y, cv=5)"
      ],
      "metadata": {
        "id": "lFxFQretnhN2"
      },
      "execution_count": null,
      "outputs": []
    }
  ]
}